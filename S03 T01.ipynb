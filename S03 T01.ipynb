{
 "cells": [
  {
   "cell_type": "code",
   "execution_count": 44,
   "id": "4be3e91c-e792-45e2-aa17-6fabbd3abbe0",
   "metadata": {},
   "outputs": [
    {
     "name": "stdout",
     "output_type": "stream",
     "text": [
      "['1T:', 'enero', 'febrero', 'marzo', '2T:', 'abril', 'mayo', 'junio', '3T:', 'julio', 'agosto', 'septiembre', '4T:', 'octubre', 'noviembre', 'diciembre']\n"
     ]
    }
   ],
   "source": [
    "trimestre1 = [\"1T:\", \"enero\", \"febrero\", \"marzo\"]\n",
    "trimestre2 = [\"2T:\", \"abril\", \"mayo\", \"junio\"]\n",
    "trimestre3 = [\"3T:\", \"julio\", \"agosto\", \"septiembre\"]\n",
    "trimestre4 = [\"4T:\", \"octubre\", \"noviembre\", \"diciembre\"]\n",
    "mesesdelaño = trimestre1 + trimestre2 + trimestre3 + trimestre4\n",
    "print(mesesdelaño)"
   ]
  },
  {
   "cell_type": "code",
   "execution_count": 8,
   "id": "d07786f2-f5a0-4051-8d96-4dec0adbc5d4",
   "metadata": {},
   "outputs": [
    {
     "name": "stdout",
     "output_type": "stream",
     "text": [
      "febrero\n"
     ]
    }
   ],
   "source": [
    "print(trimestre1[2])"
   ]
  },
  {
   "cell_type": "code",
   "execution_count": 9,
   "id": "5b4059f3-4e7d-4a11-8cc1-d4df1c0c4b02",
   "metadata": {},
   "outputs": [
    {
     "name": "stdout",
     "output_type": "stream",
     "text": [
      "['enero', 'febrero', 'marzo']\n"
     ]
    }
   ],
   "source": [
    "print(trimestre1[1:4])"
   ]
  },
  {
   "cell_type": "code",
   "execution_count": 24,
   "id": "2a24a1bd-8e00-4902-a09f-13eb65bc0f49",
   "metadata": {},
   "outputs": [
    {
     "name": "stdout",
     "output_type": "stream",
     "text": [
      "septiembre\n",
      "octubre\n"
     ]
    }
   ],
   "source": [
    "print(trimestre3[3])\n",
    "print(trimestre4[1])"
   ]
  },
  {
   "cell_type": "code",
   "execution_count": 10,
   "id": "989218eb-790a-4bba-a8c4-ef44e3b836a2",
   "metadata": {},
   "outputs": [
    {
     "name": "stdout",
     "output_type": "stream",
     "text": [
      "[3, 5, 9, 2, 15, 19, 345, 201, 15, 8, 1983]\n"
     ]
    }
   ],
   "source": [
    "numeros = [3, 5, 9, 2, 15, 19, 345, 201, 15, 8, 1983]\n",
    "print(numeros)"
   ]
  },
  {
   "cell_type": "code",
   "execution_count": 11,
   "id": "c181d491-40f5-405c-a8ef-25931b98d90a",
   "metadata": {},
   "outputs": [
    {
     "name": "stdout",
     "output_type": "stream",
     "text": [
      "11\n"
     ]
    }
   ],
   "source": [
    "print(len(numeros))"
   ]
  },
  {
   "cell_type": "code",
   "execution_count": 12,
   "id": "0219489c-0a83-4762-a823-a7bab9f93662",
   "metadata": {},
   "outputs": [
    {
     "name": "stdout",
     "output_type": "stream",
     "text": [
      "Sí, '3' está en la lista numeros\n"
     ]
    }
   ],
   "source": [
    "if 3 in numeros:\n",
    "  print(\"Sí, '3' está en la lista numeros\")"
   ]
  },
  {
   "cell_type": "code",
   "execution_count": 15,
   "id": "e4606fa6-fc58-4669-9004-17b0bfd65e6b",
   "metadata": {},
   "outputs": [],
   "source": [
    "if 4 in numeros:\n",
    "  print(\"Sí, '4' está en la lista numeros\")"
   ]
  },
  {
   "cell_type": "code",
   "execution_count": 17,
   "id": "bfafbf25-d3a6-404c-9ef4-b0832e604dcc",
   "metadata": {},
   "outputs": [
    {
     "name": "stdout",
     "output_type": "stream",
     "text": [
      "1983\n"
     ]
    }
   ],
   "source": [
    "numeros.sort(reverse = True)\n",
    "print(numeros[0])"
   ]
  },
  {
   "cell_type": "code",
   "execution_count": 19,
   "id": "cede270e-840a-4b96-a19e-8ccba0aa51cd",
   "metadata": {},
   "outputs": [
    {
     "name": "stdout",
     "output_type": "stream",
     "text": [
      "[2, 3, 5]\n"
     ]
    }
   ],
   "source": [
    "numeros.sort()\n",
    "print(numeros[0:3])"
   ]
  },
  {
   "cell_type": "code",
   "execution_count": 29,
   "id": "2b808dfc-656c-46e6-bfd2-85747ed9f131",
   "metadata": {},
   "outputs": [
    {
     "name": "stdout",
     "output_type": "stream",
     "text": [
      "[2, 3, 5, 8, 9, 15, 15, 19, 201, 345, 1983]\n"
     ]
    }
   ],
   "source": [
    "range(1)\n",
    "print(numeros)"
   ]
  },
  {
   "cell_type": "code",
   "execution_count": 34,
   "id": "23019983-aaf8-47d0-a07b-18cd69495534",
   "metadata": {},
   "outputs": [],
   "source": [
    "compra = { \"Pomes\" : {\"Qty\" : 5, \"€\" : 0.42}, \"Peres\" : {\"Qty\" : 3, \"€\" : 0.66} }"
   ]
  },
  {
   "cell_type": "code",
   "execution_count": 31,
   "id": "9e66ef55-0b5b-403b-a87c-33afe6a333b1",
   "metadata": {},
   "outputs": [
    {
     "name": "stdout",
     "output_type": "stream",
     "text": [
      "{'Pomes': {'Qty': 5, '€': 0.42}, 'Peres': {'Qty': 3, '€': 0.66}, 'melocoton': {'Qty': 3, '€': 0.5}}\n"
     ]
    }
   ],
   "source": [
    "compra = { \"Pomes\" : {\"Qty\": 5, \"€\": 0.42}, \"Peres\" : {\"Qty\": 3, \"€\": 0.66} }\n",
    "compra.update({\"melocoton\" : {\"Qty\": 3, \"€\": 0.50}})\n",
    "print(compra)"
   ]
  },
  {
   "cell_type": "code",
   "execution_count": 39,
   "id": "5fbdf251-e010-493e-ac00-e0c810ddc1e0",
   "metadata": {},
   "outputs": [
    {
     "name": "stdout",
     "output_type": "stream",
     "text": [
      "1.98\n"
     ]
    }
   ],
   "source": [
    "print(3 * 0.66)"
   ]
  },
  {
   "cell_type": "code",
   "execution_count": 40,
   "id": "dacad4ff-fdff-4ea0-ab38-c24d34ced12d",
   "metadata": {},
   "outputs": [
    {
     "name": "stdout",
     "output_type": "stream",
     "text": [
      "11\n"
     ]
    }
   ],
   "source": [
    "print(5+3+3) "
   ]
  },
  {
   "cell_type": "code",
   "execution_count": 42,
   "id": "4963d8f0-63b8-43f7-9976-bcdc38423c62",
   "metadata": {},
   "outputs": [],
   "source": [
    "precios = [0.42, 0.66, 0.50]"
   ]
  },
  {
   "cell_type": "code",
   "execution_count": 43,
   "id": "9216e63f-2725-4097-8384-a8bd76105c0c",
   "metadata": {},
   "outputs": [
    {
     "name": "stdout",
     "output_type": "stream",
     "text": [
      "0.66\n"
     ]
    }
   ],
   "source": [
    "precios.sort(reverse = True)\n",
    "print(precios[0])"
   ]
  },
  {
   "cell_type": "code",
   "execution_count": null,
   "id": "a3c8d84c-7d99-44af-b964-8eb377970292",
   "metadata": {},
   "outputs": [],
   "source": []
  }
 ],
 "metadata": {
  "kernelspec": {
   "display_name": "Python 3",
   "language": "python",
   "name": "python3"
  },
  "language_info": {
   "codemirror_mode": {
    "name": "ipython",
    "version": 3
   },
   "file_extension": ".py",
   "mimetype": "text/x-python",
   "name": "python",
   "nbconvert_exporter": "python",
   "pygments_lexer": "ipython3",
   "version": "3.8.8"
  }
 },
 "nbformat": 4,
 "nbformat_minor": 5
}
